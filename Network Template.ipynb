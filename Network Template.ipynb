{
 "cells": [
  {
   "cell_type": "markdown",
   "metadata": {},
   "source": [
    "The packages used for the template/experiment"
   ]
  },
  {
   "cell_type": "code",
   "execution_count": null,
   "metadata": {},
   "outputs": [],
   "source": [
    "import networkx as nx\n",
    "import numpy as np\n",
    "import matplotlib.pyplot as plt\n",
    "import pandas as pd"
   ]
  },
  {
   "cell_type": "markdown",
   "metadata": {},
   "source": [
    "Pulling from a data file instead of generating a random network"
   ]
  },
  {
   "cell_type": "code",
   "execution_count": null,
   "metadata": {},
   "outputs": [],
   "source": [
    "G = nx.read_weighted_edgelist('C:/Users/octav/Documents/Networks/CSS_600_Project/SocialInfluenceModel-main/epinions_small.csv', delimiter=',')"
   ]
  },
  {
   "cell_type": "markdown",
   "metadata": {},
   "source": [
    "Draw basic network"
   ]
  },
  {
   "cell_type": "code",
   "execution_count": null,
   "metadata": {},
   "outputs": [],
   "source": [
    "nx.draw_spring(G)"
   ]
  },
  {
   "cell_type": "code",
   "execution_count": null,
   "metadata": {},
   "outputs": [],
   "source": [
    "nx.draw_circular(G)"
   ]
  },
  {
   "cell_type": "markdown",
   "metadata": {},
   "source": [
    "Created a labeled histogram for degree centrality"
   ]
  },
  {
   "cell_type": "code",
   "execution_count": null,
   "metadata": {},
   "outputs": [],
   "source": [
    "degrees = [G.degree[i] for i in G.nodes]\n",
    "plt.xlabel('Number of Nodes')\n",
    "plt.ylabel('Number of Edges')\n",
    "plt.title('Degreee Distribution of Network')\n",
    "plt.hist(degrees, bins = range( min(degrees), max(degrees)))\n",
    "\n",
    "plt.show()"
   ]
  },
  {
   "cell_type": "code",
   "execution_count": null,
   "metadata": {},
   "outputs": [],
   "source": [
    "plt.xlabel('Number of Nodes')\n",
    "plt.ylabel('Number of Edges')\n",
    "plt.title('Betweenness Distribution of Network')\n",
    "plt.hist(nx.centrality.betweenness_centrality(G).values())\n",
    "\n",
    "plt.show()"
   ]
  },
  {
   "cell_type": "code",
   "execution_count": null,
   "metadata": {},
   "outputs": [],
   "source": [
    "plt.xlabel('Number of Nodes')\n",
    "plt.ylabel('Number of Edges')\n",
    "plt.title('Closeness Distribution of Network')\n",
    "plt.hist(nx.centrality.closeness_centrality(G).values())\n",
    "\n",
    "plt.show()"
   ]
  },
  {
   "cell_type": "markdown",
   "metadata": {},
   "source": [
    "Print basic network summary statistics. Currently aligned to print independently but could easily be lumped together for cleanliness"
   ]
  },
  {
   "cell_type": "code",
   "execution_count": null,
   "metadata": {},
   "outputs": [],
   "source": [
    "print('Number of Nodes: ', nx.number_of_nodes(G))\n",
    "print('Number of Edges: ', nx.number_of_edges(G))\n",
    "print('Calculation for Non-edges: ', len(list(nx.non_edges(G))))\n",
    "print('Network Cluster Average: ', nx.cluster.average_clustering(G))\n",
    "print('Network density: ', nx.density(G))\n",
    "print('Triadic Closure: ', nx.transitivity(G))"
   ]
  }
 ],
 "metadata": {
  "kernelspec": {
   "display_name": "Python 3 (ipykernel)",
   "language": "python",
   "name": "python3"
  },
  "language_info": {
   "codemirror_mode": {
    "name": "ipython",
    "version": 3
   },
   "file_extension": ".py",
   "mimetype": "text/x-python",
   "name": "python",
   "nbconvert_exporter": "python",
   "pygments_lexer": "ipython3",
   "version": "3.9.7"
  }
 },
 "nbformat": 4,
 "nbformat_minor": 1
}
